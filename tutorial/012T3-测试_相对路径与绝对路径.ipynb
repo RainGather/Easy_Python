{
 "cells": [
  {
   "cell_type": "code",
   "execution_count": 2,
   "metadata": {},
   "outputs": [
    {
     "name": "stdout",
     "output_type": "stream",
     "text": [
      "DEBUG MODE\n",
      "数据获取成功！本次测试值为：\n",
      "C:\\Windows\\System32\\driver\n",
      "C:\\Windows\n"
     ]
    }
   ],
   "source": [
    "# 获取数据\n",
    "from mgr import *\n",
    "ipt = get('010T3')"
   ]
  },
  {
   "cell_type": "markdown",
   "metadata": {},
   "source": [
    "# 绝对路径与相对路径\n",
    "\n",
    "C:\\Windows\\System32\\driver 这样的路径，叫**绝对路径**，类似于 亚洲\\中国\\浙江省\\宁波市\\江北区\n",
    "\n",
    "而如果你当前刚好位于C:\\Windows（这个就叫做**工作路径**），此时如果给予一个路径System32\\driver，系统会在C:\\Windows中寻找System32\\driver，与C:\\Windows\\System32\\driver的效果一致，此时我们把System32\\driver叫做**相对路径**。\n",
    "\n",
    "类似于你如果在宁波市，当你说江北区的时候，大家都知道你说的是宁波市的江北区。\n",
    "\n",
    "但当你在重庆，当你说江北区的时候，大家都理解为重庆的江北区。\n",
    "\n",
    "# 测试-求相对路径\n",
    "ipt中包含两行字符串，第一行是绝对路径，第二行是工作路径，请你试着输出相对路径。\n",
    "\n",
    "注意相对路径不会以斜杠或反斜杠开头。\n",
    "\n",
    "例如：\n",
    "\n",
    "#### 输入：\n",
    "\n",
    "```\n",
    "C:\\Windows\\System32\\driver\n",
    "C:\\Windows\n",
    "```\n",
    "\n",
    "#### 输出：\n",
    "\n",
    "```\n",
    "System32\\driver\n",
    "```\n"
   ]
  },
  {
   "cell_type": "code",
   "execution_count": 3,
   "metadata": {},
   "outputs": [],
   "source": [
    "# 请在此处输入代码"
   ]
  },
  {
   "cell_type": "code",
   "execution_count": null,
   "metadata": {},
   "outputs": [],
   "source": [
    "# 提交代码\n",
    "from mgr import *\n",
    "sub('010T3')"
   ]
  }
 ],
 "metadata": {
  "kernelspec": {
   "display_name": "Python 3",
   "language": "python",
   "name": "python3"
  },
  "language_info": {
   "codemirror_mode": {
    "name": "ipython",
    "version": 3
   },
   "file_extension": ".py",
   "mimetype": "text/x-python",
   "name": "python",
   "nbconvert_exporter": "python",
   "pygments_lexer": "ipython3",
   "version": "3.7.4"
  }
 },
 "nbformat": 4,
 "nbformat_minor": 2
}
