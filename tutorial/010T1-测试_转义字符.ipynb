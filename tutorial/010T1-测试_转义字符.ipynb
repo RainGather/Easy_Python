{
 "cells": [
  {
   "cell_type": "code",
   "execution_count": null,
   "metadata": {},
   "outputs": [],
   "source": [
    "# 运行下列代码获取数据\n",
    "from mgr import *\n",
    "ipt = get('010T1')"
   ]
  },
  {
   "cell_type": "markdown",
   "metadata": {},
   "source": [
    "---\n",
    "\n",
    "# 测试-转义字符\n",
    "\n",
    "请将输入以回车作为分割，组成新的列表\n",
    "\n",
    "例：\n",
    "\n",
    "#### 输入：\n",
    "\n",
    "```\n",
    "宁波\n",
    "杭州\n",
    "上海\n",
    "深圳\n",
    "苏州\n",
    "```\n",
    "\n",
    "#### 输出：\n",
    "\n",
    "```\n",
    "['宁波', '杭州', '上海', '深圳', '苏州']\n",
    "```\n",
    "\n",
    "请补充下列代码，完成上述要求"
   ]
  },
  {
   "cell_type": "code",
   "execution_count": null,
   "metadata": {},
   "outputs": [],
   "source": [
    "# 请在此处完成代码"
   ]
  },
  {
   "cell_type": "markdown",
   "metadata": {},
   "source": [
    "---"
   ]
  },
  {
   "cell_type": "code",
   "execution_count": null,
   "metadata": {},
   "outputs": [],
   "source": [
    "from mgr import *\n",
    "sub('010T1')"
   ]
  },
  {
   "cell_type": "markdown",
   "metadata": {},
   "source": [
    "### [下一章](010T2-测试_路径判断.ipynb)"
   ]
  }
 ],
 "metadata": {
  "kernelspec": {
   "display_name": "Python 3",
   "language": "python",
   "name": "python3"
  },
  "language_info": {
   "codemirror_mode": {
    "name": "ipython",
    "version": 3
   },
   "file_extension": ".py",
   "mimetype": "text/x-python",
   "name": "python",
   "nbconvert_exporter": "python",
   "pygments_lexer": "ipython3",
   "version": "3.7.4"
  }
 },
 "nbformat": 4,
 "nbformat_minor": 2
}
