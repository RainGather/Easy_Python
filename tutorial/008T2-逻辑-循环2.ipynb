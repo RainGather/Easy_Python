{
 "cells": [
  {
   "cell_type": "code",
   "execution_count": null,
   "metadata": {},
   "outputs": [],
   "source": [
    "# 运行下列代码获取数据\n",
    "from mgr import *\n",
    "ipt = get('008T2')\n",
    "ipt = ipt.split('\\n')"
   ]
  },
  {
   "cell_type": "markdown",
   "metadata": {},
   "source": [
    "---\n",
    "\n",
    "# 测试-逻辑-循环2\n",
    "\n",
    "ipt中保存了一个城市的列表，请检查是否含有\"宁波\"。如果有，**输出所在位置是第几位（ipt[0]是第1位）**，如果没有，输出0\n",
    "\n",
    "例：\n",
    "\n",
    "#### 输入：\n",
    "\n",
    "```\n",
    "['宁波', '杭州', '上海', '深圳', '苏州']\n",
    "```\n",
    "\n",
    "#### 输出：\n",
    "\n",
    "```\n",
    "1\n",
    "```\n",
    "\n",
    "请补充下列代码，完成上述要求"
   ]
  },
  {
   "cell_type": "code",
   "execution_count": null,
   "metadata": {},
   "outputs": [],
   "source": [
    "# 请补充完代码，建议可以使用while循环"
   ]
  },
  {
   "cell_type": "markdown",
   "metadata": {},
   "source": [
    "---\n"
   ]
  },
  {
   "cell_type": "code",
   "execution_count": null,
   "metadata": {},
   "outputs": [],
   "source": [
    "# 提交代码\n",
    "from mgr import *\n",
    "sub('008T2')"
   ]
  },
  {
   "cell_type": "markdown",
   "metadata": {},
   "source": [
    "### [下一章](009-语法糖.ipynb)"
   ]
  }
 ],
 "metadata": {
  "kernelspec": {
   "display_name": "Python 3",
   "language": "python",
   "name": "python3"
  },
  "language_info": {
   "codemirror_mode": {
    "name": "ipython",
    "version": 3
   },
   "file_extension": ".py",
   "mimetype": "text/x-python",
   "name": "python",
   "nbconvert_exporter": "python",
   "pygments_lexer": "ipython3",
   "version": "3.7.4"
  }
 },
 "nbformat": 4,
 "nbformat_minor": 2
}
