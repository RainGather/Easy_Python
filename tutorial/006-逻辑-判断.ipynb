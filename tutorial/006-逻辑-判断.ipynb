{
 "cells": [
  {
   "cell_type": "markdown",
   "metadata": {},
   "source": [
    "# 2-逻辑\n",
    "\n",
    "## 判断"
   ]
  },
  {
   "cell_type": "markdown",
   "metadata": {},
   "source": [
    "符号解释:\n",
    "- 大于: >\n",
    "- 小于: <\n",
    "- 等于: == (注意在Python语言中，判断两者是否相等使用的是==符号，单个=符号仅代表赋值功能。)\n",
    "- 大于等于: >=\n",
    "- 小于等于: <=\n",
    "- 不等于: !=\n",
    "- 并且(与): and\n",
    "- 或者(或): or\n",
    "- 否(非): not"
   ]
  },
  {
   "cell_type": "code",
   "execution_count": null,
   "metadata": {},
   "outputs": [],
   "source": [
    "a = 2\n",
    "b = 1\n",
    "if a > b:\n",
    "    print('a比b大')  # Python中用缩进（1个缩进官方建议开头4个空格）来作为代码从属于什么逻辑之后的判断，例如此行，只有在a>b时程序才会正常运行"
   ]
  },
  {
   "cell_type": "code",
   "execution_count": null,
   "metadata": {},
   "outputs": [],
   "source": [
    "a = 2\n",
    "b = 3\n",
    "if a > b:\n",
    "    print('a比b大')  # 此时这行就不会运行，因为a并不比b大，条件不满足"
   ]
  },
  {
   "cell_type": "code",
   "execution_count": null,
   "metadata": {},
   "outputs": [],
   "source": [
    "a = 2\n",
    "b = 1\n",
    "if a > b:\n",
    "print('a比b大')  # 程序会报错，因为if判断的冒号之后，没有任何缩进的语句，系统将不知道在判断成功后做什么事情"
   ]
  },
  {
   "cell_type": "code",
   "execution_count": null,
   "metadata": {},
   "outputs": [],
   "source": [
    "a = 2\n",
    "b = 1\n",
    "if a > b:\n",
    "    print('a比b大')  # 当a比b大时会运行\n",
    "print('比较完成')  # 由于该行没有缩进，所以该行的逻辑与上述的if判断无关，无论a、b大小如何都会运行"
   ]
  },
  {
   "cell_type": "code",
   "execution_count": null,
   "metadata": {},
   "outputs": [],
   "source": [
    "a = 2\n",
    "b = 3\n",
    "if a > b:\n",
    "    print('a比b大')\n",
    "print('比较完成')"
   ]
  },
  {
   "cell_type": "code",
   "execution_count": null,
   "metadata": {},
   "outputs": [],
   "source": [
    "a = 2\n",
    "b = 3\n",
    "if a < b:\n",
    "    print('a比b小')\n",
    "print('比较完成')"
   ]
  },
  {
   "cell_type": "code",
   "execution_count": null,
   "metadata": {},
   "outputs": [],
   "source": [
    "a = 2\n",
    "b = 2\n",
    "if a == b:\n",
    "    print('a和b相等')\n",
    "print('比较完成')"
   ]
  },
  {
   "cell_type": "markdown",
   "metadata": {},
   "source": [
    "本质上，if后面的判断，是在进行一个计算，计算的结果是真（True）和假（False），如果是真就运行冒号之后缩进的代码，如果是假就不运行之后缩进的代码。\n",
    "\n",
    "if可以和else配合，来方便书写，例如，0-59分为不合格，60-79分为合格，80-89为良好，90-100为优秀，如果单纯用if，会写成如下这样："
   ]
  },
  {
   "cell_type": "code",
   "execution_count": null,
   "metadata": {},
   "outputs": [],
   "source": [
    "a = 100\n",
    "if a <= 59 and a >= 0:\n",
    "    print('不合格')\n",
    "if a <= 79 and a >= 60:\n",
    "    print('合格')\n",
    "if a <= 89 and a >= 80:\n",
    "    print('良好')\n",
    "if a <= 100 and a >= 90:\n",
    "    print('优秀')\n",
    "if not (a >= 0 and a <= 100):\n",
    "    print('错误：a的数值未在0-100之间')"
   ]
  },
  {
   "cell_type": "markdown",
   "metadata": {},
   "source": [
    "如果配合else和else if(elif)，可以写成如下代码:"
   ]
  },
  {
   "cell_type": "code",
   "execution_count": null,
   "metadata": {},
   "outputs": [],
   "source": [
    "a = 100\n",
    "if not (a >= 0 and a <= 100):\n",
    "    print('错误：a的数值未在0-100之间')\n",
    "elif a <= 59:\n",
    "    print('不合格')\n",
    "elif a <= 79:\n",
    "    print('合格')\n",
    "elif a <= 89:\n",
    "    print('良好')\n",
    "else:\n",
    "    print('优秀')"
   ]
  },
  {
   "cell_type": "markdown",
   "metadata": {},
   "source": [
    "可以自修修改上述a的值，来观察结果。"
   ]
  },
  {
   "cell_type": "markdown",
   "metadata": {},
   "source": [
    "### [下一章](006T-测试_逻辑判断.ipynb)"
   ]
  }
 ],
 "metadata": {
  "kernelspec": {
   "display_name": "Python 3",
   "language": "python",
   "name": "python3"
  },
  "language_info": {
   "codemirror_mode": {
    "name": "ipython",
    "version": 3
   },
   "file_extension": ".py",
   "mimetype": "text/x-python",
   "name": "python",
   "nbconvert_exporter": "python",
   "pygments_lexer": "ipython3",
   "version": "3.7.4"
  }
 },
 "nbformat": 4,
 "nbformat_minor": 2
}
