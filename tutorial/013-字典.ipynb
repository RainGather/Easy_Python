{
 "cells": [
  {
   "cell_type": "markdown",
   "metadata": {},
   "source": [
    "# 字典\n",
    "字典是一种常用的组合数据类型。    \n",
    "可以随意修改下方代码，自行运行测试。"
   ]
  },
  {
   "cell_type": "markdown",
   "metadata": {},
   "source": [
    "## 字典的创建\n",
    "下面例子中，一个字典包含多个元素，一个元素包含“键”、“值”（也称key、value）两部分。一个唯一的键对应一个唯一的值。下面是字典a的元素及其各自的键值。\n",
    "\n",
    "|键|值|\n",
    "|:---:|---|\n",
    "|'1'|'one'|\n",
    "|'2'|2|\n",
    "|'three'|3|\n",
    "|'四'|[1,2,3,4]|"
   ]
  },
  {
   "cell_type": "code",
   "execution_count": null,
   "metadata": {},
   "outputs": [],
   "source": [
    "# 空字典的创建\n",
    "a = {}\n",
    "b = dict()"
   ]
  },
  {
   "cell_type": "code",
   "execution_count": null,
   "metadata": {},
   "outputs": [],
   "source": [
    "a = {'1':'one','2':2,'three':3,'四':[1,2,3,4]}"
   ]
  },
  {
   "cell_type": "markdown",
   "metadata": {},
   "source": [
    "## 字典元素的访问"
   ]
  },
  {
   "cell_type": "code",
   "execution_count": null,
   "metadata": {},
   "outputs": [],
   "source": [
    "print('key为‘1’的值为   ',a['1'])\n",
    "print('key为‘2’的值为   ',a['四'])"
   ]
  },
  {
   "cell_type": "markdown",
   "metadata": {},
   "source": [
    "- 对字典对象直接进行迭代或者遍历时默认返回字典的键。\n",
    "- 使用字典对象的items()方法可以返回字典的键、值对。\n",
    "- 使用字典对象的keys()方法可以返回字典的键。\n",
    "- 使用字典对象的values()方法可以返回字典的值。"
   ]
  },
  {
   "cell_type": "code",
   "execution_count": null,
   "metadata": {},
   "outputs": [],
   "source": [
    "aDict = {'age': 19, 'score': [98, 97], 'name': 'Dong', 'sex': 'male'}\n",
    "for item in aDict:             # 默认遍历字典的“键”\n",
    "    print(item, end=' ')"
   ]
  },
  {
   "cell_type": "code",
   "execution_count": null,
   "metadata": {},
   "outputs": [],
   "source": [
    "for item in aDict.items():       # 指定遍历字典的元素：键值对\n",
    "    print(item, end=' ')    "
   ]
  },
  {
   "cell_type": "code",
   "execution_count": null,
   "metadata": {},
   "outputs": [],
   "source": [
    "aDict.values()"
   ]
  },
  {
   "cell_type": "markdown",
   "metadata": {},
   "source": [
    "## 字典元素添加、修改与删除\n",
    "通过“键”来修改字典中对应的“键”的值时，如果该“键”不存在，则会添加该“键”并赋值。"
   ]
  },
  {
   "cell_type": "code",
   "execution_count": null,
   "metadata": {},
   "outputs": [],
   "source": [
    "aDict = {'age': 35, 'name': 'Dong', 'sex': 'male'}\n",
    "aDict['age'] = 19                  #修改元素值\n",
    "aDict"
   ]
  },
  {
   "cell_type": "code",
   "execution_count": null,
   "metadata": {},
   "outputs": [],
   "source": [
    "aDict['address'] = 'SDIBT'         #添加新元素\n",
    "aDict"
   ]
  },
  {
   "cell_type": "markdown",
   "metadata": {},
   "source": [
    "删除字典中指定的元素"
   ]
  },
  {
   "cell_type": "code",
   "execution_count": null,
   "metadata": {},
   "outputs": [],
   "source": [
    "del aDict['age']               #删除字典元素\n",
    "aDict"
   ]
  },
  {
   "cell_type": "markdown",
   "metadata": {},
   "source": [
    "采用pop函数可以<font color = red>弹出</font>一个值并<font color = red>删除</font>它。所谓弹出，就是，它会返回一个值，你可以接收它，然后原来的列表中就再也没有它了，<font color = red>不论你是否接收它，它都不在原来的字典里了</font>。就像子弹被弹出了气枪，那么那颗子弹就不在枪里了。"
   ]
  },
  {
   "cell_type": "code",
   "execution_count": null,
   "metadata": {},
   "outputs": [],
   "source": [
    "aDict = {'age': 37, 'score': [98, 97], 'name': 'Dong', 'sex': 'male'}\n",
    "aDict.pop('score')        \n",
    "aDict"
   ]
  },
  {
   "cell_type": "markdown",
   "metadata": {},
   "source": [
    "### [下一章](013T-测试_字典.ipynb)"
   ]
  }
 ],
 "metadata": {
  "kernelspec": {
   "display_name": "Python 3",
   "language": "python",
   "name": "python3"
  },
  "language_info": {
   "codemirror_mode": {
    "name": "ipython",
    "version": 3
   },
   "file_extension": ".py",
   "mimetype": "text/x-python",
   "name": "python",
   "nbconvert_exporter": "python",
   "pygments_lexer": "ipython3",
   "version": "3.7.4"
  }
 },
 "nbformat": 4,
 "nbformat_minor": 2
}
