{
 "cells": [
  {
   "cell_type": "markdown",
   "metadata": {},
   "source": [
    "# 字典\n",
    "\n",
    "列表可以保存一组信息："
   ]
  },
  {
   "cell_type": "code",
   "execution_count": null,
   "metadata": {},
   "outputs": [],
   "source": [
    "players = ['姚明', '易建联', '林书豪']"
   ]
  },
  {
   "cell_type": "markdown",
   "metadata": {},
   "source": [
    "而字典可以保存多元化的信息："
   ]
  },
  {
   "cell_type": "code",
   "execution_count": null,
   "metadata": {},
   "outputs": [],
   "source": [
    "ym = {\n",
    "    '姓名': '姚明',\n",
    "    '出生日期': '1980-09-12',\n",
    "    '身高': 226,\n",
    "    '籍贯': '上海'\n",
    "}\n",
    "print(ym['身高'])"
   ]
  },
  {
   "cell_type": "markdown",
   "metadata": {},
   "source": [
    "上述代码中，冒号左侧的叫键(key)，右侧的叫值(value)，一对键值用逗号隔开，最后一组键值之后不需要。\n",
    "\n",
    "例如第二行中，**姓名**是键，**姚明**是值。\n",
    "\n",
    "## 字典的修改和增加\n",
    "\n",
    "字典的修改和增加都是一样的方法，很方便："
   ]
  },
  {
   "cell_type": "code",
   "execution_count": null,
   "metadata": {},
   "outputs": [],
   "source": [
    "ym = {\n",
    "    '姓名': '姚明',\n",
    "    '出生日期': '1980-09-12',\n",
    "    '身高': 226,\n",
    "    '籍贯': '上海'\n",
    "}\n",
    "\n",
    "ym['籍贯'] = '上海徐汇区'  # 修改籍贯\n",
    "ym['性别'] = '男'  # 增加性别\n",
    "print(ym)"
   ]
  },
  {
   "cell_type": "markdown",
   "metadata": {},
   "source": [
    "## 字典的遍历\n",
    "\n",
    "字典可以用下面的方式来遍历"
   ]
  },
  {
   "cell_type": "code",
   "execution_count": null,
   "metadata": {},
   "outputs": [],
   "source": [
    "ym = {\n",
    "    '姓名': '姚明',\n",
    "    '出生日期': '1980-09-12',\n",
    "    '身高': 226,\n",
    "    '籍贯': '上海'\n",
    "}\n",
    "\n",
    "for key, value in ym.items():\n",
    "    print(key, value)"
   ]
  },
  {
   "cell_type": "markdown",
   "metadata": {},
   "source": [
    "## 字典的嵌套\n",
    "\n",
    "字典可以嵌套使用："
   ]
  },
  {
   "cell_type": "code",
   "execution_count": null,
   "metadata": {},
   "outputs": [],
   "source": [
    "players = [\n",
    "    {\n",
    "        '姓名': '姚明',\n",
    "        '出生日期': '1980-09-12',\n",
    "        '身高': 226,\n",
    "        '籍贯': '上海'\n",
    "    }, {\n",
    "        '姓名': '易建联',\n",
    "        '出生日期': '1984-10-27',\n",
    "        '身高': 211,\n",
    "        '籍贯': '江门'\n",
    "    }\n",
    "]\n",
    "print(players[1]['姓名'] + '的身高为：' + str(players[1]['身高']))\n",
    "print(players[0]['姓名'] + '是' + players[0]['籍贯'] + '人')"
   ]
  },
  {
   "cell_type": "markdown",
   "metadata": {},
   "source": [
    "### [下一章](013T-测试_字典.ipynb)"
   ]
  }
 ],
 "metadata": {
  "kernelspec": {
   "display_name": "Python 3",
   "language": "python",
   "name": "python3"
  },
  "language_info": {
   "codemirror_mode": {
    "name": "ipython",
    "version": 3
   },
   "file_extension": ".py",
   "mimetype": "text/x-python",
   "name": "python",
   "nbconvert_exporter": "python",
   "pygments_lexer": "ipython3",
   "version": "3.7.4"
  }
 },
 "nbformat": 4,
 "nbformat_minor": 2
}
