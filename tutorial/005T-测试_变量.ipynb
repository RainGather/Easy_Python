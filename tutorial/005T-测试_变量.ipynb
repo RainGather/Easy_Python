{
 "cells": [
  {
   "cell_type": "markdown",
   "metadata": {},
   "source": [
    "# 测试-变量\n",
    "请先运行下面代码，获取相应的数据。"
   ]
  },
  {
   "cell_type": "code",
   "execution_count": null,
   "metadata": {},
   "outputs": [],
   "source": [
    "from mgr import *\n",
    "ipt = get('005T')"
   ]
  },
  {
   "cell_type": "markdown",
   "metadata": {},
   "source": [
    "通过上述方法，可以获得服务器的输入数据，全部都是字符串形式返回的。\n",
    "\n",
    "此处ipt会被赋值成字符串'123'，下面请你输出ipt+1的值，也就是124\n",
    "\n",
    "*注意：从上述代码中获取到的数据，可能不一定总是123，所以如果你直接print(124)的话，可能是错误的。*\n",
    "\n",
    "例如:\n",
    "\n",
    "#### 输入：\n",
    "```\n",
    "123\n",
    "```\n",
    "\n",
    "#### 输出：\n",
    "\n",
    "```\n",
    "124\n",
    "```"
   ]
  },
  {
   "cell_type": "code",
   "execution_count": null,
   "metadata": {},
   "outputs": [],
   "source": [
    "print(ipt + 1) # 这样肯定是错误的，请你进行修改。"
   ]
  },
  {
   "cell_type": "markdown",
   "metadata": {},
   "source": [
    "---\n",
    "# 提交代码(一定要保存后提交！)\n",
    "完成后，按 `Ctrl` + `S` **保存**，随后点击下面代码，按`shift` + `回车`运行提交(不要修改下面任何代码)"
   ]
  },
  {
   "cell_type": "code",
   "execution_count": null,
   "metadata": {},
   "outputs": [],
   "source": [
    "from mgr import *\n",
    "sub('005T')"
   ]
  },
  {
   "cell_type": "markdown",
   "metadata": {},
   "source": [
    "### [下一章](006-逻辑-判断.ipynb)"
   ]
  }
 ],
 "metadata": {
  "kernelspec": {
   "display_name": "Python 3",
   "language": "python",
   "name": "python3"
  },
  "language_info": {
   "codemirror_mode": {
    "name": "ipython",
    "version": 3
   },
   "file_extension": ".py",
   "mimetype": "text/x-python",
   "name": "python",
   "nbconvert_exporter": "python",
   "pygments_lexer": "ipython3",
   "version": "3.7.4"
  }
 },
 "nbformat": 4,
 "nbformat_minor": 2
}
