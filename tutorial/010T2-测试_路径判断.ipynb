{
 "cells": [
  {
   "cell_type": "code",
   "execution_count": null,
   "metadata": {},
   "outputs": [],
   "source": [
    "#获取数据\n",
    "from mgr import *\n",
    "ipt = get('010T2')"
   ]
  },
  {
   "cell_type": "markdown",
   "metadata": {},
   "source": [
    "# 测试-路径判断\n",
    "在Windows中，路径以反斜杠作为分割，例如：\n",
    "\n",
    "`C:\\Windows\\System32\\driver`\n",
    "\n",
    "注意由于在Python中反斜杠是作为转义字符处理的，所以在Python里如果写上面的字符串，需要这么写：\n",
    "\n",
    "`'C:\\\\Windows\\\\System32\\\\driver'`\n",
    "\n",
    "在Linux中，路径以正斜杠为分割，例如：\n",
    "\n",
    "`/var/tmp`\n",
    "\n",
    "请判断ipt中的路径，是Windows的话，输出Windows（注意首字母大写），是Linux的话，输出Linux（首字母大写）\n",
    "\n",
    "例如：\n",
    "\n",
    "输入：\n",
    "\n",
    "C:\\Windows\\System32\\driver\n",
    "\n",
    "输出：\n",
    "\n",
    "Windows"
   ]
  },
  {
   "cell_type": "code",
   "execution_count": null,
   "metadata": {},
   "outputs": [],
   "source": [
    "# 请在此处输入代码"
   ]
  },
  {
   "cell_type": "code",
   "execution_count": null,
   "metadata": {},
   "outputs": [],
   "source": [
    "from mgr import *\n",
    "sub('010T2')"
   ]
  }
 ],
 "metadata": {
  "kernelspec": {
   "display_name": "Python 3",
   "language": "python",
   "name": "python3"
  },
  "language_info": {
   "codemirror_mode": {
    "name": "ipython",
    "version": 3
   },
   "file_extension": ".py",
   "mimetype": "text/x-python",
   "name": "python",
   "nbconvert_exporter": "python",
   "pygments_lexer": "ipython3",
   "version": "3.7.4"
  }
 },
 "nbformat": 4,
 "nbformat_minor": 2
}
