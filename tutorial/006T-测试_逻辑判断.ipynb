{
 "cells": [
  {
   "cell_type": "markdown",
   "metadata": {},
   "source": [
    "# 测试-逻辑-判断\n",
    "\n",
    "运行下方代码获取数据："
   ]
  },
  {
   "cell_type": "code",
   "execution_count": 1,
   "metadata": {},
   "outputs": [
    {
     "name": "stdout",
     "output_type": "stream",
     "text": [
      "DEBUG MODE\n",
      "数据获取成功！本次测试值为：\n",
      "123\n"
     ]
    }
   ],
   "source": [
    "from mgr import *\n",
    "ipt = get('006T')"
   ]
  },
  {
   "cell_type": "markdown",
   "metadata": {},
   "source": [
    "---\n",
    "\n",
    "ipt内包含一个字符串形式的整数，请判断这个整数是否是偶数，如果是偶数，请输出1，否则输出0\n",
    "\n",
    "例如：\n",
    "\n",
    "#### 输入：\n",
    "```\n",
    "123\n",
    "```\n",
    "\n",
    "#### 输出：\n",
    "```\n",
    "0\n",
    "```"
   ]
  },
  {
   "cell_type": "code",
   "execution_count": null,
   "metadata": {},
   "outputs": [],
   "source": [
    "if ipt: # 请在此处修改完整代码，使代码能符合上述要求正确运行，注意此处ipt是字符串，如有必要请自行进行变量类型转换！\n",
    "    print(1)\n",
    "else:\n",
    "    print(0)"
   ]
  },
  {
   "cell_type": "markdown",
   "metadata": {},
   "source": [
    "---\n",
    "# 提交代码(一定要保存后提交！)\n",
    "完成后，按 `Ctrl` + `S` **保存**，随后点击下面代码，按`shift` + `回车`运行提交(不要修改下面任何代码)"
   ]
  },
  {
   "cell_type": "code",
   "execution_count": null,
   "metadata": {},
   "outputs": [],
   "source": [
    "from mgr import *\n",
    "sub('006T')"
   ]
  },
  {
   "cell_type": "markdown",
   "metadata": {},
   "source": [
    "### [下一章](007-列表、集合、元组.ipynb)"
   ]
  }
 ],
 "metadata": {
  "kernelspec": {
   "display_name": "Python 3",
   "language": "python",
   "name": "python3"
  },
  "language_info": {
   "codemirror_mode": {
    "name": "ipython",
    "version": 3
   },
   "file_extension": ".py",
   "mimetype": "text/x-python",
   "name": "python",
   "nbconvert_exporter": "python",
   "pygments_lexer": "ipython3",
   "version": "3.7.4"
  }
 },
 "nbformat": 4,
 "nbformat_minor": 2
}
