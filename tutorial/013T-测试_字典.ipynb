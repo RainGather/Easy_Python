{
 "cells": [
  {
   "cell_type": "markdown",
   "metadata": {},
   "source": [
    "# 测试-字典\n",
    "请以字典的形式存放以下数据后计算并输出<font color = red>彩音</font>与<font color =  red>国见</font>的身高和，然后<font color = red>弹出</font>星奏的相关数据：\n",
    "\n",
    "|名字|身高|\n",
    "|--|---|\n",
    "|彩音|165|\n",
    "|国见|170|\n",
    "|星奏|166|"
   ]
  },
  {
   "cell_type": "code",
   "execution_count": null,
   "metadata": {},
   "outputs": [],
   "source": [
    "#请在此处作答"
   ]
  },
  {
   "cell_type": "markdown",
   "metadata": {},
   "source": [
    "运行以下代码可以查看示例代码"
   ]
  },
  {
   "cell_type": "code",
   "execution_count": 1,
   "metadata": {},
   "outputs": [
    {
     "name": "stdout",
     "output_type": "stream",
     "text": [
      "示例代码如下:\n",
      "\n",
      "a = {'彩音':165,'国见':170,'星奏':166}\n",
      "print('彩音与国见的身高和为',a['彩音']+a['国见'])\n",
      "a.pop('星奏')\n"
     ]
    }
   ],
   "source": [
    "code = '''10_97_32_61_32_123_39_24425_38899_39_58_49_54_53_44_39_22269_35265_39_58_49_55_48_44_39_26143_22863_39_58_49_54_54_125_10_112_114_105_110_116_40_39_24425_38899_19982_22269_35265_30340_36523_39640_21644_20026_39_44_97_91_39_24425_38899_39_93_43_97_91_39_22269_35265_39_93_41_10_97_46_112_111_112_40_39_26143_22863_39_41_10_'''\n",
    "code = code.split('_')\n",
    "code = [int(i) for i in code if i]\n",
    "print('示例代码如下:')\n",
    "for i in code :\n",
    "    print(chr(i),end = '')"
   ]
  },
  {
   "cell_type": "markdown",
   "metadata": {},
   "source": [
    "### [下一章](014-json.ipynb)"
   ]
  }
 ],
 "metadata": {
  "kernelspec": {
   "display_name": "Python 3",
   "language": "python",
   "name": "python3"
  },
  "language_info": {
   "codemirror_mode": {
    "name": "ipython",
    "version": 3
   },
   "file_extension": ".py",
   "mimetype": "text/x-python",
   "name": "python",
   "nbconvert_exporter": "python",
   "pygments_lexer": "ipython3",
   "version": "3.7.4"
  }
 },
 "nbformat": 4,
 "nbformat_minor": 2
}
