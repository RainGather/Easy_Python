{
 "cells": [
  {
   "cell_type": "markdown",
   "metadata": {},
   "source": [
    "# 测试-合法变量名\n",
    "挑出可用的变量名，按顺序print出来\n",
    "\n",
    "a\n",
    "\n",
    "!!!\n",
    "\n",
    "abc\n",
    "\n",
    "ipt\n",
    "\n",
    "\\_abc\n",
    "\n",
    "1st\n",
    "\n",
    "_\n",
    "\n",
    "__\n",
    "\n",
    "if\n",
    "\n",
    "if_\n",
    "\n",
    "print_\n",
    "\n",
    "\\_print\n",
    "\n",
    "first name\n",
    "\n",
    "first_name\n"
   ]
  },
  {
   "cell_type": "code",
   "execution_count": null,
   "metadata": {},
   "outputs": [],
   "source": [
    "print('a')\n",
    "print('abc')\n",
    "# 请在此处补充完整"
   ]
  },
  {
   "cell_type": "markdown",
   "metadata": {},
   "source": [
    "---\n",
    "# 提交代码(一定要保存后提交！)\n",
    "完成后，按 `Ctrl` + `S` **保存**，随后点击下面代码，按`shift` + `回车`运行提交(不要修改下面任何代码)"
   ]
  },
  {
   "cell_type": "code",
   "execution_count": null,
   "metadata": {},
   "outputs": [],
   "source": [
    "from mgr import *\n",
    "sub('004T1')"
   ]
  },
  {
   "cell_type": "markdown",
   "metadata": {},
   "source": [
    "### [下一章](004T2-测试_顺序结构.ipynb)"
   ]
  }
 ],
 "metadata": {
  "kernelspec": {
   "display_name": "Python 3",
   "language": "python",
   "name": "python3"
  },
  "language_info": {
   "codemirror_mode": {
    "name": "ipython",
    "version": 3
   },
   "file_extension": ".py",
   "mimetype": "text/x-python",
   "name": "python",
   "nbconvert_exporter": "python",
   "pygments_lexer": "ipython3",
   "version": "3.7.4"
  }
 },
 "nbformat": 4,
 "nbformat_minor": 2
}
