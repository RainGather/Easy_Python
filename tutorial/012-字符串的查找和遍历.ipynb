{
 "cells": [
  {
   "cell_type": "markdown",
   "metadata": {},
   "source": [
    "## 字符串的索引\n",
    "这是Python中的字符串，可以看成是由单个字符组成的列表，请看下面的代码："
   ]
  },
  {
   "cell_type": "code",
   "execution_count": 1,
   "metadata": {},
   "outputs": [
    {
     "name": "stdout",
     "output_type": "stream",
     "text": [
      "H e l\n",
      "H e l\n"
     ]
    }
   ],
   "source": [
    "a = ['H', 'e', 'l', 'l', 'o']\n",
    "b = 'Hello'\n",
    "print(a[0], a[1], a[2])\n",
    "print(b[0], b[1], b[2])  # 字符串可以像列表一样直接索引到单个字符"
   ]
  },
  {
   "cell_type": "markdown",
   "metadata": {},
   "source": [
    "## 字符串的遍历\n",
    "字符串和列表一样，也可以被for循环遍历："
   ]
  },
  {
   "cell_type": "code",
   "execution_count": 3,
   "metadata": {},
   "outputs": [
    {
     "name": "stdout",
     "output_type": "stream",
     "text": [
      "H\n",
      "e\n",
      "l\n",
      "l\n",
      "o\n",
      "------分割线------\n",
      "H\n",
      "e\n",
      "l\n",
      "l\n",
      "o\n"
     ]
    }
   ],
   "source": [
    "for i in ['H', 'e', 'l', 'l', 'o']:\n",
    "    print(i)\n",
    "print('------分割线------')\n",
    "for i in 'Hello':\n",
    "    print(i)"
   ]
  },
  {
   "cell_type": "markdown",
   "metadata": {},
   "source": [
    "## 字符串的搜索\n",
    "字符串还可以用index，来找到某个字符第一次出现在第几位："
   ]
  },
  {
   "cell_type": "code",
   "execution_count": 5,
   "metadata": {},
   "outputs": [
    {
     "name": "stdout",
     "output_type": "stream",
     "text": [
      "1\n",
      "2\n"
     ]
    }
   ],
   "source": [
    "a = 'Hello'\n",
    "print(a.index('e'))\n",
    "print(a.index('l'))  # 字符串里由于有两个l，返回的是第一个l所在的位置"
   ]
  },
  {
   "cell_type": "markdown",
   "metadata": {},
   "source": [
    "## 获取字符串长度"
   ]
  },
  {
   "cell_type": "code",
   "execution_count": 15,
   "metadata": {},
   "outputs": [
    {
     "name": "stdout",
     "output_type": "stream",
     "text": [
      "字符串a的长度为：11\n"
     ]
    }
   ],
   "source": [
    "a = 'Hello World'\n",
    "b = len(a)\n",
    "print('字符串a的长度为：' + str(b))"
   ]
  },
  {
   "cell_type": "markdown",
   "metadata": {},
   "source": [
    "### [下一章](012T3-测试_相对路径与绝对路径.ipynb)"
   ]
  }
 ],
 "metadata": {
  "kernelspec": {
   "display_name": "Python 3",
   "language": "python",
   "name": "python3"
  },
  "language_info": {
   "codemirror_mode": {
    "name": "ipython",
    "version": 3
   },
   "file_extension": ".py",
   "mimetype": "text/x-python",
   "name": "python",
   "nbconvert_exporter": "python",
   "pygments_lexer": "ipython3",
   "version": "3.7.4"
  }
 },
 "nbformat": 4,
 "nbformat_minor": 2
}
