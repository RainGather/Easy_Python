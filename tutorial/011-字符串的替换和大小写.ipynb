{
 "cells": [
  {
   "cell_type": "markdown",
   "metadata": {},
   "source": [
    "## 字符串的替换\n",
    "用replace，可以替换字符串中的部分字符："
   ]
  },
  {
   "cell_type": "code",
   "execution_count": null,
   "metadata": {},
   "outputs": [],
   "source": [
    "a = 'Hello World'\n",
    "b = a.replace('World', 'China')  # 第一个参数是将替换字符串，第二个参数是替换为字符串\n",
    "print(b)\n",
    "c = b.replace('Hello', '你好')\n",
    "print(c)"
   ]
  },
  {
   "cell_type": "markdown",
   "metadata": {},
   "source": [
    "## 字符串的大小写转换\n",
    "大小写转换也是极其方便的："
   ]
  },
  {
   "cell_type": "code",
   "execution_count": null,
   "metadata": {},
   "outputs": [],
   "source": [
    "a = 'Hello'\n",
    "b = a.upper()  # 全部大写\n",
    "print(b)\n",
    "c = b.lower()  # 全部小写\n",
    "print(c)"
   ]
  },
  {
   "cell_type": "markdown",
   "metadata": {},
   "source": [
    "## 字符串中是否包含某个字符串"
   ]
  },
  {
   "cell_type": "code",
   "execution_count": null,
   "metadata": {},
   "outputs": [],
   "source": [
    "a = 'Hello World'\n",
    "if 'Hello' in a:  # 判断a中是否有Hello这个字符串\n",
    "    print('这可能是一句用于打招呼的英文')\n",
    "else:\n",
    "    print('不知道是什么语句')"
   ]
  },
  {
   "cell_type": "markdown",
   "metadata": {},
   "source": [
    "### [下一章](011T-测试_文明用语.ipynb)"
   ]
  }
 ],
 "metadata": {
  "kernelspec": {
   "display_name": "Python 3",
   "language": "python",
   "name": "python3"
  },
  "language_info": {
   "codemirror_mode": {
    "name": "ipython",
    "version": 3
   },
   "file_extension": ".py",
   "mimetype": "text/x-python",
   "name": "python",
   "nbconvert_exporter": "python",
   "pygments_lexer": "ipython3",
   "version": "3.7.4"
  }
 },
 "nbformat": 4,
 "nbformat_minor": 2
}
