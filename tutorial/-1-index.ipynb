{
 "cells": [
  {
   "cell_type": "markdown",
   "metadata": {},
   "source": [
    "# 目录\n",
    "\n",
    "```\n",
    "HelloWorld\n",
    "注释\n",
    "数学运算\n",
    "顺序结构\n",
    "变量\n",
    "if判断\n",
    "列表、集合和元组\n",
    "循环结构\n",
    "语法糖\n",
    "转义字符\n",
    "字符串的替换和大小写\n",
    "字符串的查找和遍历\n",
    "字典\n",
    "json\n",
    "```\n"
   ]
  },
  {
   "cell_type": "code",
   "execution_count": null,
   "metadata": {},
   "outputs": [],
   "source": []
  }
 ],
 "metadata": {
  "kernelspec": {
   "display_name": "Python 3",
   "language": "python",
   "name": "python3"
  },
  "language_info": {
   "codemirror_mode": {
    "name": "ipython",
    "version": 3
   },
   "file_extension": ".py",
   "mimetype": "text/x-python",
   "name": "python",
   "nbconvert_exporter": "python",
   "pygments_lexer": "ipython3",
   "version": "3.7.4"
  }
 },
 "nbformat": 4,
 "nbformat_minor": 2
}
