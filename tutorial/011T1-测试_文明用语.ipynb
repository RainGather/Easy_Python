{
 "cells": [
  {
   "cell_type": "code",
   "execution_count": null,
   "metadata": {},
   "outputs": [],
   "source": [
    "# 获取数据\n",
    "from mgr import *\n",
    "ipt = get('011T1')"
   ]
  },
  {
   "cell_type": "markdown",
   "metadata": {},
   "source": [
    "# 测试-文明用语\n",
    "ipt中将获取两行数据\n",
    "\n",
    "第一行为禁止使用的词汇，用空格隔开\n",
    "\n",
    "第二行为用户输入的语句\n",
    "\n",
    "请将第二行中有出现禁止使用的词汇，全体替换成星号。\n",
    "\n",
    "例如：\n",
    "\n",
    "#### 输入：\n",
    "```\n",
    "shit 我靠 坑爹\n",
    "这个好坑爹啊！我靠！\n",
    "```\n",
    "\n",
    "#### 输出：\n",
    "```\n",
    "这个好**啊！**！\n",
    "```"
   ]
  },
  {
   "cell_type": "code",
   "execution_count": null,
   "metadata": {},
   "outputs": [],
   "source": [
    "# 请在此处输入代码"
   ]
  },
  {
   "cell_type": "code",
   "execution_count": null,
   "metadata": {},
   "outputs": [],
   "source": [
    "# 提交\n",
    "from mgr import *\n",
    "sub('011T1')"
   ]
  },
  {
   "cell_type": "markdown",
   "metadata": {},
   "source": [
    "### [下一章](012-字符串的查找和遍历.ipynb)"
   ]
  }
 ],
 "metadata": {
  "kernelspec": {
   "display_name": "Python 3",
   "language": "python",
   "name": "python3"
  },
  "language_info": {
   "codemirror_mode": {
    "name": "ipython",
    "version": 3
   },
   "file_extension": ".py",
   "mimetype": "text/x-python",
   "name": "python",
   "nbconvert_exporter": "python",
   "pygments_lexer": "ipython3",
   "version": "3.7.4"
  }
 },
 "nbformat": 4,
 "nbformat_minor": 2
}
