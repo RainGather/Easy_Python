{
 "cells": [
  {
   "cell_type": "markdown",
   "metadata": {},
   "source": [
    "# 逻辑-循环"
   ]
  },
  {
   "cell_type": "markdown",
   "metadata": {},
   "source": [
    "## while 循环"
   ]
  },
  {
   "cell_type": "code",
   "execution_count": null,
   "metadata": {},
   "outputs": [],
   "source": [
    "a = 1\n",
    "b = 5\n",
    "while a < b:  # while,当的意思，其右侧条件满足时就会不断循环冒号之后缩进的代码\n",
    "    print('循环中')\n",
    "    a += 1  # 每一次循环，a都会增加1，直到a比b更大时，停止循环\n",
    "print('结束')"
   ]
  },
  {
   "cell_type": "markdown",
   "metadata": {},
   "source": [
    "# 下面是一个死循环的演示代码，请不要作死去运行，会死机的！！！除非关闭后台的黑色命令行窗口重新打开，否则会一直死循环运行下去。\n",
    "\n",
    "\n",
    "```python\n",
    "while True:  # while的判断条件永远成立，所以这个循环会不断运行下去，这就是死循环\n",
    "    print('这是一个死循环！')\n",
    "```"
   ]
  },
  {
   "cell_type": "code",
   "execution_count": null,
   "metadata": {},
   "outputs": [],
   "source": [
    "while True:\n",
    "    print('这差点成为一个死循环！')\n",
    "    break  # break关键词可以退出所有的循环，包括下面的for循环"
   ]
  },
  {
   "cell_type": "markdown",
   "metadata": {},
   "source": [
    "## for循环\n",
    "for循环一般会将一系列的数据，逐一取出，运行内部代码后再放入。"
   ]
  },
  {
   "cell_type": "code",
   "execution_count": null,
   "metadata": {},
   "outputs": [],
   "source": [
    "l = [0, 1, 2, 3, 4, 5]\n",
    "for i in l:\n",
    "    print(i)"
   ]
  },
  {
   "cell_type": "code",
   "execution_count": null,
   "metadata": {},
   "outputs": [],
   "source": [
    "for i in range(0, 6):  # range(0, 6)意思是生成一个和上一个代码块中l变量相似的0到5的“列表”，在这里列表打引号是因为实际上这个东西不是列表，但你现阶段可以当作列表去理解。\n",
    "    print(i)"
   ]
  },
  {
   "cell_type": "markdown",
   "metadata": {},
   "source": [
    "### [下一章](008T1-逻辑-循环.ipynb)"
   ]
  }
 ],
 "metadata": {
  "kernelspec": {
   "display_name": "Python 3",
   "language": "python",
   "name": "python3"
  },
  "language_info": {
   "codemirror_mode": {
    "name": "ipython",
    "version": 3
   },
   "file_extension": ".py",
   "mimetype": "text/x-python",
   "name": "python",
   "nbconvert_exporter": "python",
   "pygments_lexer": "ipython3",
   "version": "3.7.4"
  }
 },
 "nbformat": 4,
 "nbformat_minor": 2
}
