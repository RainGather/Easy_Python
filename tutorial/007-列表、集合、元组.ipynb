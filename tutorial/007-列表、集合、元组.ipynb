{
 "cells": [
  {
   "cell_type": "markdown",
   "metadata": {},
   "source": [
    "# 列表、集合、元组"
   ]
  },
  {
   "cell_type": "markdown",
   "metadata": {},
   "source": [
    "## 列表(list)\n",
    "观察下列代码，猜测输出值"
   ]
  },
  {
   "cell_type": "code",
   "execution_count": null,
   "metadata": {},
   "outputs": [],
   "source": [
    "a = [1, 2, 3, 4, 5, 6]\n",
    "print(a)\n",
    "print(a[0]) # 取第一个元素的值，python中计数从0开始\n",
    "print(a[1]) # 取第二个元素的值\n",
    "print(a[-1]) # 取倒数第一个元素的值\n",
    "print(a[-2]) # 取倒数第二个元素的值\n",
    "print(a[1:3]) # 取第二个到第三个的值（[1:3]是左闭区间，右开区间，数学表达类似[1:3))\n",
    "print(a[:-3]) # 取从头开始到倒数第三个的值\n",
    "print(a[3:]) # 取从第三个开始到最后一位数的值\n",
    "print(a[3:23]) # 如果末位数取值范围超过数组长度的，返回数组最大长度的值，这个表达式在此处的含义类似 print(a[3:])"
   ]
  },
  {
   "cell_type": "markdown",
   "metadata": {},
   "source": [
    "当然，列表可以有不同类型的元素组合，例如"
   ]
  },
  {
   "cell_type": "code",
   "execution_count": null,
   "metadata": {},
   "outputs": [],
   "source": [
    "a = [1, '二', 'three', 'Hello', 5.23]"
   ]
  },
  {
   "cell_type": "markdown",
   "metadata": {},
   "source": [
    "甚至列表里面还可以包含列表"
   ]
  },
  {
   "cell_type": "code",
   "execution_count": null,
   "metadata": {},
   "outputs": [],
   "source": [
    "a = [1, 2, [11, 22, 33], [44, 55, 66]]"
   ]
  },
  {
   "cell_type": "markdown",
   "metadata": {},
   "source": [
    "在python中，一般一个内容都要写在同一行里。但是小括号、中括号和大括号内的内容可以换行，使格式上便于我们查看"
   ]
  },
  {
   "cell_type": "code",
   "execution_count": null,
   "metadata": {},
   "outputs": [],
   "source": [
    "a = [\n",
    "    1,\n",
    "    2,\n",
    "    [11, 22, 33],\n",
    "    [44, 55, 66]\n",
    "]\n",
    "print(a[2][1]) # 猜测下输出的值是多少？\n",
    "print(a[3][0]) # 猜测下输出的值是多少？"
   ]
  },
  {
   "cell_type": "markdown",
   "metadata": {},
   "source": [
    "列表可以增加元素"
   ]
  },
  {
   "cell_type": "code",
   "execution_count": null,
   "metadata": {},
   "outputs": [],
   "source": [
    "a = [1, 2, 3, 4]\n",
    "print(a)\n",
    "a.append(5) # 增加到末尾\n",
    "print(a)"
   ]
  },
  {
   "cell_type": "markdown",
   "metadata": {},
   "source": [
    "也可以删除元素"
   ]
  },
  {
   "cell_type": "code",
   "execution_count": null,
   "metadata": {},
   "outputs": [],
   "source": [
    "a = [1, 2, 3, 4]\n",
    "print(a)\n",
    "del a[2] # 删除第二个元素\n",
    "print(a)"
   ]
  },
  {
   "cell_type": "markdown",
   "metadata": {},
   "source": [
    "还可以修改元素"
   ]
  },
  {
   "cell_type": "code",
   "execution_count": null,
   "metadata": {},
   "outputs": [],
   "source": [
    "a = [1, 2, 3, 4]\n",
    "print(a)\n",
    "a[2] = 'Hello'\n",
    "print(a)"
   ]
  },
  {
   "cell_type": "markdown",
   "metadata": {},
   "source": [
    "## 字符串与列表的转换\n",
    "\n",
    "用如下方式可以将字符串以空格作为分割，变成列表："
   ]
  },
  {
   "cell_type": "code",
   "execution_count": null,
   "metadata": {},
   "outputs": [],
   "source": [
    "a = 'Good good study and day day up'\n",
    "b = a.split(' ')  # 此处以空格为分割，可以修改成其他分割字符\n",
    "print(b)"
   ]
  },
  {
   "cell_type": "markdown",
   "metadata": {},
   "source": [
    "## 集合(set)、元组(tuple)\n",
    "集合、元组与列表相似，但是缺少部分列表的功能，然而在运行效率上会更高。接下去我们都是对列表、集合和元组做初步的处理，不需要理解太深入，只需知道集合和元组是阉割版的列表就可以了。"
   ]
  },
  {
   "cell_type": "code",
   "execution_count": null,
   "metadata": {},
   "outputs": [],
   "source": [
    "t = {1, 2, 3} # 集合\n",
    "print(t)\n",
    "print(type(t))\n",
    "s = (1, 2, 3) # 元组\n",
    "print(s, type(s)) # print可以通过逗号隔开来同时输出多个值"
   ]
  },
  {
   "cell_type": "markdown",
   "metadata": {},
   "source": [
    "## 获取长度\n",
    "列表、集合和元组都可以用如下方法获取长度(就是有几个元素)"
   ]
  },
  {
   "cell_type": "code",
   "execution_count": null,
   "metadata": {},
   "outputs": [],
   "source": [
    "a = [1, 2, 3, 4, 5]\n",
    "l = len(a)\n",
    "print(l)"
   ]
  },
  {
   "cell_type": "markdown",
   "metadata": {},
   "source": [
    "上述的内容已够我们平时使用，如果你希望了解更多内容，可在此处查看：\n",
    "- [列表](https://www.runoob.com/python3/python3-list.html)\n",
    "- [集合](https://www.runoob.com/python3/python3-set.html)\n",
    "- [元组](https://www.runoob.com/python3/python3-tuple.html)"
   ]
  },
  {
   "cell_type": "markdown",
   "metadata": {},
   "source": [
    "### [下一章](007T-测试_列表.ipynb)"
   ]
  }
 ],
 "metadata": {
  "kernelspec": {
   "display_name": "Python 3",
   "language": "python",
   "name": "python3"
  },
  "language_info": {
   "codemirror_mode": {
    "name": "ipython",
    "version": 3
   },
   "file_extension": ".py",
   "mimetype": "text/x-python",
   "name": "python",
   "nbconvert_exporter": "python",
   "pygments_lexer": "ipython3",
   "version": "3.7.4"
  }
 },
 "nbformat": 4,
 "nbformat_minor": 2
}
